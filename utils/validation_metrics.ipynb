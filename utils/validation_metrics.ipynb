{
 "cells": [
  {
   "cell_type": "code",
   "execution_count": null,
   "metadata": {},
   "outputs": [],
   "source": [
    "import sys\n",
    "sys.path.append(\"..\")\n",
    "import torch\n",
    "import numpy as np\n",
    "from tqdm import tqdm\n",
    "from skimage.metrics import structural_similarity as ssim\n",
    "from torch_utils.ambient_diffusion import nrmse_np, psnr"
   ]
  },
  {
   "cell_type": "code",
   "execution_count": null,
   "metadata": {},
   "outputs": [],
   "source": [
    "inference_R = 4\n",
    "training_R = 2\n",
    "delta_prob = training_R+1\n",
    "method = \"A-ALD\"\n",
    "\n",
    "ssim_list = []\n",
    "nrmse_list = []\n",
    "psnr_list = []\n",
    "\n",
    "for sample in tqdm(range(100)):\n",
    "    if method == \"A-DPS\":\n",
    "        results_file = '/csiNAS2/slow/brett/ambient_DPS_results/trained_r=%d_delta_prob%d/sample%d/seed%d/R=%d/checkpoint.pt'%(training_R, delta_prob, sample, 15, inference_R)\n",
    "    if method == \"A-ALD\":\n",
    "        results_file = '/home/asad/ambient-diffusion-mri/results/AmbientALD/trained_r=%d_delta_prob%d/sample%d/seed15/R=%d/checkpoint.pt'%(training_R, delta_prob, sample, inference_R)\n",
    "    if method == \"FS-DPS\":\n",
    "        results_file = '/csiNAS2/slow/brett/ambient_DPS_results/ambientmri_baseline_DPS_results_1_31_24/sample%d/R=%d/checkpoint.pt'%(sample,inference_R)\n",
    "    elif method == \"L1-DPS\":\n",
    "        results_file = '/csiNAS2/slow/brett/ambient_DPS_results/ambientmri_L1_R=%d_baseline_DPS_results_1_31_24/sample%d/R=%d/checkpoint.pt'%(training_R,sample,inference_R)\n",
    "    \n",
    "    cont = torch.load(results_file)\n",
    "    gt_img = cont['gt_img']\n",
    "    mean_recon = cont['recon']\n",
    "    img_nrmse = nrmse_np(abs(gt_img[0,0]), abs(mean_recon[0,0]))\n",
    "    img_SSIM = ssim(abs(gt_img[0,0]), abs(mean_recon[0,0]), data_range=abs(gt_img[0,0]).max() - abs(gt_img[0,0]).min())\n",
    "    img_PSNR = psnr(gt=abs(gt_img[0,0]), est=abs(mean_recon[0]),max_pixel=np.amax(abs(gt_img)))\n",
    "\n",
    "    nrmse_list.append(img_nrmse)\n",
    "    ssim_list.append(img_SSIM)\n",
    "    psnr_list.append(img_PSNR)\n",
    "\n",
    "print('NRMSE: ', round(np.mean(nrmse_list), 3))\n",
    "print('SSIM: ', round(np.mean(ssim_list)*100, 2))\n",
    "print('PSNR: ', round(np.mean(psnr_list), 2))"
   ]
  }
 ],
 "metadata": {
  "interpreter": {
   "hash": "fb5b8dd8ae27c584e5f2a8723198ac3c69761e25abddb192d282e6527ed19b4b"
  },
  "kernelspec": {
   "display_name": "Python 3 (ipykernel)",
   "language": "python",
   "name": "python3"
  },
  "language_info": {
   "codemirror_mode": {
    "name": "ipython",
    "version": 3
   },
   "file_extension": ".py",
   "mimetype": "text/x-python",
   "name": "python",
   "nbconvert_exporter": "python",
   "pygments_lexer": "ipython3",
   "version": "3.9.18"
  }
 },
 "nbformat": 4,
 "nbformat_minor": 4
}
